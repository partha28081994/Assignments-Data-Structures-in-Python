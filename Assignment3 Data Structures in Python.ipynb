{
 "cells": [
  {
   "cell_type": "markdown",
   "id": "146fb1e0-e29f-416b-87e2-a600f2e7cc5b",
   "metadata": {},
   "source": [
    "1. Write a code to reverse a string."
   ]
  },
  {
   "cell_type": "code",
   "execution_count": 5,
   "id": "520c59cb-8a7d-4a83-a770-2b5d584d66fc",
   "metadata": {},
   "outputs": [
    {
     "name": "stdout",
     "output_type": "stream",
     "text": [
      "Input string is Partha \n",
      "Reversed string is ahtraP\n",
      "Input string is 123 \n",
      "Reversed string is 321\n"
     ]
    }
   ],
   "source": [
    "def reverse_string(input_string):\n",
    "    if not isinstance(input_string, str):\n",
    "        input_string = str(input_string)\n",
    "    reversed_string = input_string[::-1]\n",
    "\n",
    "    return f\"Input string is {input_string} \\nReversed string is {reversed_string}\"\n",
    "print(reverse_string(\"Partha\"))\n",
    "print(reverse_string(123))"
   ]
  },
  {
   "cell_type": "markdown",
   "id": "86443b63-9e0c-4f1e-9899-5eecda3556b2",
   "metadata": {},
   "source": [
    "2. Write a code to count the number of vowels in a string."
   ]
  },
  {
   "cell_type": "code",
   "execution_count": 8,
   "id": "9e154d3b-c673-4401-85f9-23a66b0ecdb0",
   "metadata": {},
   "outputs": [
    {
     "name": "stdout",
     "output_type": "stream",
     "text": [
      "Total number of vowels in Partha Pratim Borah is 6\n",
      "Input must be a string.\n"
     ]
    }
   ],
   "source": [
    "def count_vowels(input_string):\n",
    "    if not isinstance(input_string, str):\n",
    "        return \"Input must be a string.\"\n",
    "    else:\n",
    "        new_input_string = input_string.lower()\n",
    "\n",
    "        vowels = \"aeiou\"\n",
    "        vowel_count = 0\n",
    "\n",
    "        for i in new_input_string:\n",
    "            if i in vowels:\n",
    "                vowel_count += 1\n",
    "\n",
    "        return f\"Total number of vowels in {input_string} is {vowel_count}\"\n",
    "\n",
    "print(count_vowels(\"Partha Pratim Borah\"))\n",
    "print(count_vowels(123))"
   ]
  },
  {
   "cell_type": "markdown",
   "id": "7f5161b4-0f4d-4422-a224-bcc4d4d216f3",
   "metadata": {},
   "source": [
    "3. Write a code to check if a given string is a palindrome or not."
   ]
  },
  {
   "cell_type": "code",
   "execution_count": 11,
   "id": "bbe356b6-ae9c-401a-9501-7fd32024837b",
   "metadata": {},
   "outputs": [
    {
     "name": "stdout",
     "output_type": "stream",
     "text": [
      "False\n",
      "Input must be a string.\n",
      "Input must be a string.\n",
      "True\n"
     ]
    }
   ],
   "source": [
    "def check_palindrome(input_string):\n",
    "    if not isinstance(input_string, str):\n",
    "        output_string = \"Input must be a string.\"\n",
    "    else:\n",
    "        reversed_string = input_string[::-1]\n",
    "        if input_string.lower() == reversed_string.lower():\n",
    "            output_string = \"True\"\n",
    "        else:\n",
    "            output_string = \"False\"\n",
    "    return output_string\n",
    "\n",
    "print(check_palindrome(\"Partha\"))\n",
    "print(check_palindrome(123))\n",
    "print(check_palindrome(12321))\n",
    "print(check_palindrome(\"Madam\"))"
   ]
  },
  {
   "cell_type": "markdown",
   "id": "74c95f66-38cf-4a2f-bebd-4c2748fb8368",
   "metadata": {},
   "source": [
    "4. Write a code to check if two given strings are anagrams of each other."
   ]
  },
  {
   "cell_type": "code",
   "execution_count": 13,
   "id": "a89eb313-2c0b-409f-bd70-af5120745dcb",
   "metadata": {},
   "outputs": [
    {
     "name": "stdout",
     "output_type": "stream",
     "text": [
      "Strings are anagrams.\n",
      "First input is not a string.\n",
      "Second input is not a string.\n",
      "Strings are not anagrams.\n"
     ]
    }
   ],
   "source": [
    "def check_anagram(input_string1, input_string2):\n",
    "    if not isinstance(input_string1, str):\n",
    "        output_string = \"First input is not a string.\"\n",
    "    elif not isinstance(input_string2, str):\n",
    "        output_string = \"Second input is not a string.\"\n",
    "    elif len(input_string1) != len(input_string2):\n",
    "        output_string = \"Strings are not anagrams.\"\n",
    "    else:\n",
    "        input_string1 = input_string1.lower()\n",
    "        input_string2 = input_string2.lower()\n",
    "        if sorted(input_string1) == sorted(input_string2):\n",
    "            output_string = \"Strings are anagrams.\"\n",
    "        else:\n",
    "            output_string = \"Strings are not anagrams.\"\n",
    "            \n",
    "    return output_string\n",
    "\n",
    "print(check_anagram(\"listen\",\"silent\"))\n",
    "print(check_anagram(123,\"silent\"))\n",
    "print(check_anagram(\"listen\",123))\n",
    "print(check_anagram(\"listen\",\"silen\"))"
   ]
  },
  {
   "cell_type": "markdown",
   "id": "e22c4f88-1ba0-43bc-8555-f764b2ef014e",
   "metadata": {},
   "source": [
    "5. Write a code to find all occurrences of a given substring within another string"
   ]
  },
  {
   "cell_type": "code",
   "execution_count": 14,
   "id": "b4140c80-3fbb-471d-9363-a9bfeaa4349e",
   "metadata": {},
   "outputs": [
    {
     "name": "stdout",
     "output_type": "stream",
     "text": [
      "The substring THE occurs 4 times in the main string and the indices are [0, 17, 56, 97]\n"
     ]
    }
   ],
   "source": [
    "def find_substring(main_string, substring):\n",
    "    substring = substring.lower()\n",
    "    s_new = main_string.lower()\n",
    "    l = []\n",
    "    for i in range(len(s_new)-len(substring)+1):\n",
    "        new_sub = s_new[i:i+len(substring)]\n",
    "        if new_sub == substring:\n",
    "            l.append(i)\n",
    "    return f\"The substring {substring.upper()} occurs {len(l)} times in the main string and the indices are {l}\"\n",
    "\n",
    "main_string = \"The soft glow of the early morning sun filtered through the trees, casting gentle shadows across the forest floor.\"\n",
    "substring = \"the\"\n",
    "print(find_substring(main_string, substring))"
   ]
  },
  {
   "cell_type": "markdown",
   "id": "40efaa8b-a1ba-4d22-9297-d8483d3d3984",
   "metadata": {},
   "source": [
    "6. Write a code to perform basic string compression using the counts of repeated characters."
   ]
  },
  {
   "cell_type": "code",
   "execution_count": 26,
   "id": "9006377b-c3d9-47de-860a-d473fbebb63a",
   "metadata": {},
   "outputs": [
    {
     "name": "stdout",
     "output_type": "stream",
     "text": [
      "a2b3a1c6\n",
      "a2b3a1\n"
     ]
    }
   ],
   "source": [
    "def string_compression(s):\n",
    "    blank_list = []\n",
    "    count = 1\n",
    "    for i in range(len(s)):\n",
    "        if i == len(s)-1:\n",
    "            if s[i] == s[i-1]:\n",
    "                blank_list.append(s[i])\n",
    "                blank_list.append(count)\n",
    "                break\n",
    "            else:\n",
    "                blank_list.append(s[i])\n",
    "                blank_list.append(count)\n",
    "        else:\n",
    "            if s[i] == s[i+1]:\n",
    "                count += 1\n",
    "            else:\n",
    "                blank_list.append(s[i])\n",
    "                blank_list.append(count)\n",
    "                count = 1\n",
    "    output_string = \"\"\n",
    "    for i in blank_list:\n",
    "        output_string += str(i)\n",
    "    return output_string\n",
    "\n",
    "s1 = [\"a\",\"a\",\"b\",\"b\",\"b\",\"a\",\"c\",\"c\",\"c\",\"c\",\"c\",\"c\"]\n",
    "s2 = [\"a\",\"a\",\"b\",\"b\",\"b\",\"a\"]\n",
    "print(string_compression(s1))\n",
    "print(string_compression(s2))"
   ]
  },
  {
   "cell_type": "markdown",
   "id": "c65db3b0-5afc-496f-b61f-7434910ad991",
   "metadata": {},
   "source": [
    "Q7. Write a code to determine if a string has all unique characters."
   ]
  },
  {
   "cell_type": "code",
   "execution_count": 16,
   "id": "15dfdfd0-a5f7-4e56-8978-370c3f34577d",
   "metadata": {},
   "outputs": [
    {
     "name": "stdout",
     "output_type": "stream",
     "text": [
      "All characters are Unique\n",
      "All characters are Not Unique\n"
     ]
    }
   ],
   "source": [
    "def check_unique_or_not(string):\n",
    "    output = \"Unique\"\n",
    "    for i in string.lower():\n",
    "        count = string.count(i)\n",
    "        if count > 1:\n",
    "            output = \"Not Unique\"\n",
    "            break\n",
    "    return f\"All characters are {output}\"\n",
    "\n",
    "print(check_unique_or_not(\"abcd01234\"))\n",
    "print(check_unique_or_not(\"Partha\"))"
   ]
  },
  {
   "cell_type": "markdown",
   "id": "6ae3bb40-7d04-4414-ba87-12066630ad4b",
   "metadata": {},
   "source": [
    "Q8. Write a code to convert a given string to uppercase or lowercase."
   ]
  },
  {
   "cell_type": "code",
   "execution_count": 24,
   "id": "90275f98-d7ff-4556-8c87-fd2a11f4ba4d",
   "metadata": {},
   "outputs": [
    {
     "name": "stdin",
     "output_type": "stream",
     "text": [
      "Please enter 1 for Upper or 2 for lower :  1\n"
     ]
    },
    {
     "name": "stdout",
     "output_type": "stream",
     "text": [
      "PARTHA PRATIM BORAH\n"
     ]
    }
   ],
   "source": [
    "def convert_to_upper_or_lower(string):\n",
    "    command = input(\"Please enter 1 for Upper or 2 for lower : \")\n",
    "    if command == \"1\":\n",
    "        output_string = string.upper()\n",
    "    elif command == \"2\":\n",
    "        output_string = string.lower()\n",
    "    else:\n",
    "        output_string = \"Invalid command, run the code again and select 1 or 2\"\n",
    "\n",
    "    return output_string\n",
    "\n",
    "print(convert_to_upper_or_lower(\"Partha Pratim Borah\"))"
   ]
  },
  {
   "cell_type": "markdown",
   "id": "54a2f851-5866-4681-9f84-82b26a4ea1db",
   "metadata": {},
   "source": [
    "9. Write a code to count the number of words in a string."
   ]
  },
  {
   "cell_type": "code",
   "execution_count": 27,
   "id": "89c4d872-d76e-485c-9243-ef31f1e73e3b",
   "metadata": {},
   "outputs": [
    {
     "name": "stdout",
     "output_type": "stream",
     "text": [
      "3\n"
     ]
    }
   ],
   "source": [
    "#Here we are considering that all the words are separated by blank space\n",
    "def count_words(string):\n",
    "    number_of_words = len(string.split(\" \"))\n",
    "    return number_of_words\n",
    "\n",
    "print(count_words(\"Partha Pratim Borah\"))"
   ]
  },
  {
   "cell_type": "markdown",
   "id": "66aecb6c-4131-4316-9f18-4d5e24935b8d",
   "metadata": {},
   "source": [
    "10. Write a code to concatenate two strings without using the + operator."
   ]
  },
  {
   "cell_type": "code",
   "execution_count": 28,
   "id": "0f664287-33ca-4cec-8bac-bea0330f3447",
   "metadata": {},
   "outputs": [
    {
     "name": "stdout",
     "output_type": "stream",
     "text": [
      "ParthaBorah\n",
      "Partha24\n"
     ]
    }
   ],
   "source": [
    "def concate_two_strings(string1,string2):\n",
    "    return f\"{str(string1)}{str(string2)}\"\n",
    "\n",
    "print(concate_two_strings(\"Partha\",\"Borah\"))\n",
    "print(concate_two_strings(\"Partha\",24))"
   ]
  },
  {
   "cell_type": "markdown",
   "id": "2ba63050-1510-45a5-8efb-933265caf843",
   "metadata": {},
   "source": [
    "11. Write a code to remove all occurrences of a specific element from a list."
   ]
  },
  {
   "cell_type": "code",
   "execution_count": 33,
   "id": "8c165e59-6649-4522-a5ce-bde19ae48b84",
   "metadata": {},
   "outputs": [
    {
     "name": "stdout",
     "output_type": "stream",
     "text": [
      "[2, 3, 4, 5, 6, 7]\n"
     ]
    }
   ],
   "source": [
    "def remove_element(input_list, element):\n",
    "    output_list = [i for i in input_list if i != element]\n",
    "    return output_list\n",
    "    \n",
    "print(remove_element([1,2,3,4,1,1,5,6,7,1],1))"
   ]
  },
  {
   "cell_type": "markdown",
   "id": "365dd0b6-d1d7-4174-bd8e-38df3f790268",
   "metadata": {},
   "source": [
    "12. Implement a code to find the second largest number in a given list of integers."
   ]
  },
  {
   "cell_type": "code",
   "execution_count": 3,
   "id": "b8d182fb-1723-4231-9500-8b6db2668a62",
   "metadata": {},
   "outputs": [
    {
     "name": "stdout",
     "output_type": "stream",
     "text": [
      "7\n"
     ]
    }
   ],
   "source": [
    "def find_second_largest(list_of_integers):\n",
    "    new_list_of_integers = sorted(list(set(list_of_integers)))\n",
    "\n",
    "    if len(new_list_of_integers) < 2:\n",
    "        return None\n",
    "    else:\n",
    "        return new_list_of_integers[-2]\n",
    "        \n",
    "l = [1,2,3,4,1,1,5,6,7,10]\n",
    "print(find_second_largest(l))"
   ]
  },
  {
   "cell_type": "markdown",
   "id": "44f7dba9-31a5-4c32-b751-1fdcfdf68603",
   "metadata": {},
   "source": [
    "13. Create a code to count the occurrences of each element in a list and return a dictionary with elements as\n",
    "keys and their counts as values."
   ]
  },
  {
   "cell_type": "code",
   "execution_count": 4,
   "id": "f1744387-1188-4cc7-b48d-b945fede48e9",
   "metadata": {},
   "outputs": [
    {
     "name": "stdout",
     "output_type": "stream",
     "text": [
      "{1: 3, 3: 2, 7: 2, 'b': 2, 'a': 2, 'c': 2}\n",
      "{'c': 1, 'a': 1, 'b': 1}\n"
     ]
    }
   ],
   "source": [
    "def create_dictionary(input_list):\n",
    "    new_list = set(input_list)\n",
    "\n",
    "    element_list = []\n",
    "    count_list = []\n",
    "\n",
    "    for i in new_list:\n",
    "        element_list.append(i)\n",
    "        count_list.append(input_list.count(i))\n",
    "\n",
    "    return dict(zip(element_list, count_list))\n",
    "\n",
    "l1= [\"a\",\"b\",\"c\",1,1,1,3,3,7,7,\"a\",\"b\",\"c\"]\n",
    "l2 = [\"a\",\"b\",\"c\"]\n",
    "print(create_dictionary(l1))\n",
    "print(create_dictionary(l2))"
   ]
  },
  {
   "cell_type": "markdown",
   "id": "8ca90cc8-c40b-4463-a61d-88834a3778c2",
   "metadata": {},
   "source": [
    "14. Write a code to reverse a list in-place without using any built-in reverse functions."
   ]
  },
  {
   "cell_type": "code",
   "execution_count": 7,
   "id": "f43a89df-6173-4612-9dea-66b3a079d8be",
   "metadata": {},
   "outputs": [
    {
     "name": "stdout",
     "output_type": "stream",
     "text": [
      "[10, 9, 8, 7, 6, 5, 4, 3, 2, 1]\n",
      "['c', 'b', 'a']\n"
     ]
    }
   ],
   "source": [
    "def reverse_list_inplace(input_list):\n",
    "    index = 0\n",
    "    while index < len(input_list)//2:\n",
    "        temp = input_list[index]\n",
    "        input_list[index] = input_list[-(index+1)]\n",
    "        input_list[-(index+1)] = temp\n",
    "        index += 1\n",
    "    return input_list\n",
    "\n",
    "l1 = [1,2,3,4,5,6,7,8,9,10]\n",
    "l2 = [\"a\",\"b\",\"c\"]\n",
    "print(reverse_list_inplace(l1))\n",
    "print(reverse_list_inplace(l2))"
   ]
  },
  {
   "cell_type": "markdown",
   "id": "ed6fa173-3cf9-4d9d-8ec7-cc16ab5acfa4",
   "metadata": {},
   "source": [
    "15. Implement a code to find and remove duplicates from a list while preserving the original order of\n",
    "elements."
   ]
  },
  {
   "cell_type": "code",
   "execution_count": 10,
   "id": "417b8456-d38a-4844-9a18-12a8a1e31cd4",
   "metadata": {},
   "outputs": [
    {
     "name": "stdout",
     "output_type": "stream",
     "text": [
      "[1, 2, 3, 4, 5, 'a', 9]\n",
      "['a', 'b']\n",
      "[1, 2, 3, 4, 5, 'a', 9]\n"
     ]
    }
   ],
   "source": [
    "def remove_duplicates(input_list):\n",
    "    output_list =[]\n",
    "    for i in input_list:\n",
    "        if i not in output_list:\n",
    "            output_list.append(i)\n",
    "    return output_list\n",
    "\n",
    "l1 = [1,1,2,3,4,1,5,2,\"a\",1,9,\"a\"]\n",
    "l2 = [\"a\",\"a\",\"b\",\"a\"]\n",
    "print(remove_duplicates(l1))\n",
    "print(remove_duplicates(l2))\n",
    "\n",
    "\n",
    "#another way is using fromkeys function \n",
    "print(list(dict.fromkeys(l1)))"
   ]
  },
  {
   "cell_type": "markdown",
   "id": "2a4cccc2-5d74-4753-82bd-77b8d664bf6a",
   "metadata": {},
   "source": [
    "16. Create a code to check if a given list is sorted (either in ascending or descending order) or not."
   ]
  },
  {
   "cell_type": "code",
   "execution_count": 11,
   "id": "39168b7c-1751-4e1b-a8a0-1ca6faed5cb5",
   "metadata": {},
   "outputs": [
    {
     "name": "stdout",
     "output_type": "stream",
     "text": [
      "List is sorted.\n",
      "List is sorted.\n"
     ]
    }
   ],
   "source": [
    "def check_if_sorted(input_list):\n",
    "    if input_list == sorted(input_list) or input_list == sorted(input_list, reverse=True):\n",
    "        return \"List is sorted.\"\n",
    "    else:\n",
    "        return \"List is not sorted.\"\n",
    "    \n",
    "l1 = [1,2,3]\n",
    "l2 = [3,2,1]\n",
    "print(check_if_sorted(l1))\n",
    "print(check_if_sorted(l2))"
   ]
  },
  {
   "cell_type": "markdown",
   "id": "feace5db-6550-4d9a-931a-1b628c815e51",
   "metadata": {},
   "source": [
    "17. Write a code to merge two sorted lists into a single sorted list."
   ]
  },
  {
   "cell_type": "code",
   "execution_count": 12,
   "id": "bfdad6b0-9fe9-4163-8f53-8fa8f61b0f7a",
   "metadata": {},
   "outputs": [
    {
     "name": "stdout",
     "output_type": "stream",
     "text": [
      "[1, 2, 3, 4, 5, 6]\n"
     ]
    }
   ],
   "source": [
    "def merge_sorted_lists(l1,l2):\n",
    "    output_list = sorted(list(set(l1 + l2)))\n",
    "    return output_list\n",
    "\n",
    "l1 = [1,2,3,4]\n",
    "l2 = [3,4,5,6]\n",
    "print(merge_sorted_lists(l1, l2))"
   ]
  },
  {
   "cell_type": "markdown",
   "id": "22fe9c80-7511-4807-855b-4d4b4566ac72",
   "metadata": {},
   "source": [
    "18. Implement a code to find the intersection of two given lists."
   ]
  },
  {
   "cell_type": "code",
   "execution_count": 22,
   "id": "168580fa-9a22-41b5-99ff-f3cabb191619",
   "metadata": {},
   "outputs": [
    {
     "name": "stdout",
     "output_type": "stream",
     "text": [
      "[3, 4]\n"
     ]
    }
   ],
   "source": [
    "def find_intersection(l1,l2):\n",
    "    output_list = list(set(l1).intersection(set(l2)))\n",
    "\n",
    "    if output_list:\n",
    "        return output_list\n",
    "    else:\n",
    "        return \"No common elements found\"\n",
    "\n",
    "l1 = [1,2,3,4]\n",
    "l2 = [3,4,5,6]\n",
    "\n",
    "print(find_intersection(l1, l2))"
   ]
  },
  {
   "cell_type": "markdown",
   "id": "5f19170f-d553-43d8-837c-e4631ff6d0a7",
   "metadata": {},
   "source": [
    "19. Create a code to find the union of two lists without duplicates."
   ]
  },
  {
   "cell_type": "code",
   "execution_count": 16,
   "id": "0774961a-13cd-4c1b-a0df-4943b491f1ad",
   "metadata": {},
   "outputs": [
    {
     "name": "stdout",
     "output_type": "stream",
     "text": [
      "{1, 2, 3, 4, 5, 6, 9, 10}\n"
     ]
    }
   ],
   "source": [
    "def find_union(l1,l2):\n",
    "    output_list = set(l1).union(set(l2))\n",
    "\n",
    "    return output_list\n",
    "\n",
    "l1 = [1,2,3,4]\n",
    "l2 = [3,4,5,6,10,9]\n",
    "\n",
    "print(find_union(l1, l2))"
   ]
  },
  {
   "cell_type": "markdown",
   "id": "436104f9-e811-4598-b4b0-76bbed3892e2",
   "metadata": {},
   "source": [
    "20. Write a code to shuffle a given list randomly without using any built-in shuffle functions."
   ]
  },
  {
   "cell_type": "code",
   "execution_count": 14,
   "id": "0c759076-4894-4c12-a5e7-43ac6fccf5c5",
   "metadata": {},
   "outputs": [
    {
     "name": "stdout",
     "output_type": "stream",
     "text": [
      "[4, 1, 6, 2, 5, 3, 7]\n"
     ]
    }
   ],
   "source": [
    "import random\n",
    "\n",
    "def shuffle_list(input_list):\n",
    "    random_number_list = random.sample(range(0, len(input_list)),len(input_list))\n",
    "\n",
    "    for i in range(len(input_list)):\n",
    "        input_list[i], input_list[random_number_list[i]] = input_list[random_number_list[i]], input_list[i]\n",
    "\n",
    "    return input_list\n",
    "\n",
    "input_list = [1,2,3,4,5,6,7]\n",
    "print(shuffle_list(input_list))"
   ]
  },
  {
   "cell_type": "markdown",
   "id": "ac8fc43d-224e-4e72-a152-1d529901a5a3",
   "metadata": {},
   "source": [
    "21. Write a code that takes two tuples as input and returns a new tuple containing elements that are\n",
    "common to both input tuples."
   ]
  },
  {
   "cell_type": "code",
   "execution_count": 18,
   "id": "f3d5a6a9-3db8-411a-9b55-ce767385284a",
   "metadata": {},
   "outputs": [
    {
     "name": "stdout",
     "output_type": "stream",
     "text": [
      "No common elements found\n",
      "(3, 4)\n"
     ]
    }
   ],
   "source": [
    "def find_common(t1,t2):\n",
    "    output_tuple = tuple(set(t1).intersection(set(t2)))\n",
    "\n",
    "    if output_tuple:\n",
    "        return output_tuple\n",
    "    else:\n",
    "        return \"No common elements found\"\n",
    "\n",
    "t1 = (1,2,3,4)\n",
    "t2 = (5,6)\n",
    "print(find_common(t1, t2))\n",
    "\n",
    "t1 = (1,2,3,4)\n",
    "t2 = (3,4,5,6)\n",
    "print(find_common(t1, t2))"
   ]
  },
  {
   "cell_type": "markdown",
   "id": "9af446c0-eef3-4f67-876c-ec07c33dc643",
   "metadata": {},
   "source": [
    "22. Create a code that prompts the user to enter two sets of integers separated by commas. Then, print the\n",
    "intersection of these two sets."
   ]
  },
  {
   "cell_type": "code",
   "execution_count": 1,
   "id": "f389d760-bfc9-4a0d-b39d-9a76e878b0aa",
   "metadata": {},
   "outputs": [
    {
     "name": "stdin",
     "output_type": "stream",
     "text": [
      "Enter the integers of the first set. Please use comma (,) to separate the elements :  1,2,3,4\n",
      "Enter the integers of the second set. Please use comma (,) to separate the elements :  3,4,5,6\n"
     ]
    },
    {
     "name": "stdout",
     "output_type": "stream",
     "text": [
      "Intersection of the two sets is {3, 4}\n"
     ]
    }
   ],
   "source": [
    "def find_common():\n",
    "\n",
    "    s1 = input(\"Enter the integers of the first set. Please use comma (,) to separate the elements : \").split(\",\")\n",
    "    s1 = set(map(int, s1))\n",
    "\n",
    "    s2 = input(\"Enter the integers of the second set. Please use comma (,) to separate the elements : \").split(\",\")\n",
    "    s2 = set(map(int, s2))\n",
    "\n",
    "    output_set= s1.intersection(s2)\n",
    "\n",
    "    if output_set:\n",
    "        return f\"Intersection of the two sets is {output_set}\"\n",
    "    else:\n",
    "        return \"No common elements found.\"\n",
    "    \n",
    "print(find_common())"
   ]
  },
  {
   "cell_type": "markdown",
   "id": "2b489387-157d-4181-8332-93b1c7e27e72",
   "metadata": {},
   "source": [
    "23. Write a code to concatenate two tuples. The function should take two tuples as input and return a new\n",
    "tuple containing elements from both input tuples."
   ]
  },
  {
   "cell_type": "code",
   "execution_count": 2,
   "id": "c72ed166-61ea-4e65-a972-e43fcb243b79",
   "metadata": {},
   "outputs": [
    {
     "name": "stdout",
     "output_type": "stream",
     "text": [
      "(1, 2, 3, 4, 3, 4, 5, 6)\n"
     ]
    }
   ],
   "source": [
    "def concate_two_tupeles(t1,t2):\n",
    "    return t1+t2\n",
    "\n",
    "t1= (1,2,3,4)\n",
    "t2= (3,4,5,6)\n",
    "\n",
    "print(concate_two_tupeles(t1, t2))"
   ]
  },
  {
   "cell_type": "markdown",
   "id": "884fcdf2-389e-48ac-a5b5-1231887c77f4",
   "metadata": {},
   "source": [
    "24. Develop a code that prompts the user to input two sets of strings. Then, print the elements that are\n",
    "present in the first set but not in the second set."
   ]
  },
  {
   "cell_type": "code",
   "execution_count": 3,
   "id": "dfe4ffdb-545c-4fad-bd2a-c939e65f32bc",
   "metadata": {},
   "outputs": [
    {
     "name": "stdin",
     "output_type": "stream",
     "text": [
      "Enter the first string. Please use comma (,) to separate the elements :  a,b,c,d\n",
      "Enter the second string. Please use comma (,) to separate the elements :  d,e,f,g\n"
     ]
    },
    {
     "name": "stdout",
     "output_type": "stream",
     "text": [
      "{'c', 'a', 'b'}\n"
     ]
    }
   ],
   "source": [
    "def find_difference():\n",
    "\n",
    "    s1 = input(\"Enter the first string. Please use comma (,) to separate the elements : \").split(\",\")\n",
    "    s1 = set(s1)\n",
    "\n",
    "    s2 = input(\"Enter the second string. Please use comma (,) to separate the elements : \").split(\",\")\n",
    "    s2 = set(s2)\n",
    "\n",
    "    output_set= s1.difference(s2)\n",
    "\n",
    "    return output_set\n",
    "    \n",
    "print(find_difference())"
   ]
  },
  {
   "cell_type": "markdown",
   "id": "9193c269-cde8-4394-991b-4a38ac460e57",
   "metadata": {},
   "source": [
    "25. Create a code that takes a tuple and two integers as input. The function should return a new tuple\n",
    "containing elements from the original tuple within the specified range of indices."
   ]
  },
  {
   "cell_type": "code",
   "execution_count": 4,
   "id": "bd25a2a6-14b5-4e3b-907b-4ff706f67e21",
   "metadata": {},
   "outputs": [
    {
     "name": "stdout",
     "output_type": "stream",
     "text": [
      "(3, 4, 5, 6, 7)\n",
      "Please check your lower and upper indices.\n"
     ]
    }
   ],
   "source": [
    "def slice_tuple(input_tuple,lower_index,upper_index):\n",
    "    output_tuple = input_tuple[lower_index:upper_index]\n",
    "\n",
    "    if output_tuple:\n",
    "        return output_tuple\n",
    "    else:\n",
    "        return f\"Please check your lower and upper indices.\"\n",
    "\n",
    "t1 = (1,2,3,4,5,6,7,8,9,10)\n",
    "\n",
    "print(slice_tuple(t1,2,7))\n",
    "print(slice_tuple(t1,100,200))"
   ]
  },
  {
   "cell_type": "markdown",
   "id": "0b2c594e-f530-4a7f-86f4-220eed8e36bf",
   "metadata": {},
   "source": [
    "26. Write a code that prompts the user to input two sets of characters. Then, print the union of these two sets."
   ]
  },
  {
   "cell_type": "code",
   "execution_count": 6,
   "id": "49e3d595-68cb-452c-9592-388ce79993ef",
   "metadata": {},
   "outputs": [
    {
     "name": "stdin",
     "output_type": "stream",
     "text": [
      "Enter the first set of characters. Please use comma (,) to separate the elements :  a,b,c,d\n",
      "Enter the second set of characters. Please use comma (,) to separate the elements :  d,e,f,g\n"
     ]
    },
    {
     "name": "stdout",
     "output_type": "stream",
     "text": [
      "{'g', 'f', 'e', 'c', 'a', 'b', 'd'}\n"
     ]
    }
   ],
   "source": [
    "def find_union():\n",
    "\n",
    "    s1 = input(\"Enter the first set of characters. Please use comma (,) to separate the elements : \").split(\",\")\n",
    "    s1 = set(s1)\n",
    "\n",
    "    s2 = input(\"Enter the second set of characters. Please use comma (,) to separate the elements : \").split(\",\")\n",
    "    s2 = set(s2)\n",
    "\n",
    "    output_set= s1.union(s2)\n",
    "\n",
    "    return output_set\n",
    "    \n",
    "print(find_union())"
   ]
  },
  {
   "cell_type": "markdown",
   "id": "9312bfa5-c312-4d59-962a-9e8bd062cb98",
   "metadata": {},
   "source": [
    "27. Develop a code that takes a tuple of integers as input. The function should return the maximum and\n",
    "minimum values from the tuple using tuple unpacking."
   ]
  },
  {
   "cell_type": "code",
   "execution_count": 9,
   "id": "9ae8d694-e1f0-4359-a4fe-70a2b22ef215",
   "metadata": {},
   "outputs": [
    {
     "name": "stdout",
     "output_type": "stream",
     "text": [
      "Maximum value of the tuple is 10 and minimum value of the tuple is -10\n"
     ]
    }
   ],
   "source": [
    "def find_max_min_value_in_tuple(input_tuple):\n",
    "    max_value = max(input_tuple)\n",
    "    min_value = min(input_tuple)\n",
    "    return max_value,min_value\n",
    "\n",
    "t1 = (1,2,3,4,5,6,7,8,9,10,-1,-10)\n",
    "\n",
    "max_value,min_value = find_max_min_value_in_tuple(t1)\n",
    "print(f\"Maximum value of the tuple is {max_value} and minimum value of the tuple is {min_value}\")"
   ]
  },
  {
   "cell_type": "markdown",
   "id": "0e4eb5e2-bb45-48e4-aac7-2bb4c87b5d82",
   "metadata": {},
   "source": [
    "28. Create a code that defines two sets of integers. Then, print the union, intersection, and difference of these\n",
    "two sets."
   ]
  },
  {
   "cell_type": "code",
   "execution_count": 10,
   "id": "a154c02c-79b6-4a3f-970d-b94c3088b817",
   "metadata": {},
   "outputs": [
    {
     "name": "stdout",
     "output_type": "stream",
     "text": [
      "Set 1: {1, 2, 3, 4, 5}\n",
      "Set 2: {4, 5, 6, 7, 8}\n",
      "Set1 Union Set2: {1, 2, 3, 4, 5, 6, 7, 8}\n",
      "Set1 Intersection Set2: {4, 5}\n",
      "Set1 Difference Set2: {1, 2, 3}\n",
      "Set2 Difference Set1: {8, 6, 7}\n"
     ]
    }
   ],
   "source": [
    "def set_operations():\n",
    "    s1 = {1, 2, 3, 4, 5}\n",
    "    s2 = {4, 5, 6, 7, 8}\n",
    "\n",
    "    union_result = s1.union(s2)\n",
    "    intersection_result = s1.intersection(s2)\n",
    "    s1_s2_difference_result = s1.difference(s2)\n",
    "    s2_s1_difference_result = s2.difference(s1)\n",
    "\n",
    "    print(\"Set 1:\", s1)\n",
    "    print(\"Set 2:\", s2)\n",
    "    print(\"Set1 Union Set2:\", union_result)\n",
    "    print(\"Set1 Intersection Set2:\", intersection_result)\n",
    "    print(\"Set1 Difference Set2:\", s1_s2_difference_result)\n",
    "    print(\"Set2 Difference Set1:\", s2_s1_difference_result)\n",
    "    \n",
    "set_operations()"
   ]
  },
  {
   "cell_type": "markdown",
   "id": "9f7a1ac9-228b-4891-9f5d-5f1324fe772e",
   "metadata": {},
   "source": [
    "29. Write a code that takes a tuple and an element as input. The function should return the count of\n",
    "occurrences of the given element in the tuple."
   ]
  },
  {
   "cell_type": "code",
   "execution_count": 11,
   "id": "e45cbb34-79f8-437b-82f8-346640425887",
   "metadata": {},
   "outputs": [
    {
     "name": "stdout",
     "output_type": "stream",
     "text": [
      "4\n",
      "0\n"
     ]
    }
   ],
   "source": [
    "def count_occurance_in_tuple(input_tuple, element):\n",
    "    return input_tuple.count(element)\n",
    "\n",
    "t1 = (10,2,3,4,5,6,7,8,9,10,10,10)\n",
    "print(count_occurance_in_tuple(t1, 10))\n",
    "print(count_occurance_in_tuple(t1, -10))"
   ]
  },
  {
   "cell_type": "markdown",
   "id": "bbe91333-1c2b-4092-a854-0afe6ed7c01a",
   "metadata": {},
   "source": [
    "30. Develop a code that prompts the user to input two sets of strings. Then, print the symmetric difference of\n",
    "these two sets."
   ]
  },
  {
   "cell_type": "code",
   "execution_count": 13,
   "id": "ac9bf03d-5fce-4d59-b660-931e6e2e173f",
   "metadata": {},
   "outputs": [
    {
     "name": "stdin",
     "output_type": "stream",
     "text": [
      "Enter the first set of characters. Please use comma (,) to separate the elements :  a,b,c,d\n",
      "Enter the second set of characters. Please use comma (,) to separate the elements :  c,d,e,f,g\n"
     ]
    },
    {
     "name": "stdout",
     "output_type": "stream",
     "text": [
      "{'g', 'f', 'e', 'a', 'b'}\n"
     ]
    }
   ],
   "source": [
    "def find_symmetric_difference():\n",
    "\n",
    "    s1 = input(\"Enter the first set of characters. Please use comma (,) to separate the elements : \").split(\",\")\n",
    "    s1 = set(s1)\n",
    "\n",
    "    s2 = input(\"Enter the second set of characters. Please use comma (,) to separate the elements : \").split(\",\")\n",
    "    s2 = set(s2)\n",
    "\n",
    "    output_set= s1.symmetric_difference(s2)\n",
    "\n",
    "    return output_set\n",
    "    \n",
    "print(find_symmetric_difference())"
   ]
  },
  {
   "cell_type": "markdown",
   "id": "0e636eee-7a72-4326-9918-6a096077a07e",
   "metadata": {},
   "source": [
    "31. Write a code that takes a list of words as input and returns a dictionary where the keys are unique words\n",
    "and the values are the frequencies of those words in the input list."
   ]
  },
  {
   "cell_type": "code",
   "execution_count": 14,
   "id": "9ab6c66e-e700-4036-8ff0-058e19f91431",
   "metadata": {},
   "outputs": [
    {
     "name": "stdout",
     "output_type": "stream",
     "text": [
      "{'pratim': 1, 'borah': 2, 'partha': 3}\n"
     ]
    }
   ],
   "source": [
    "def find_word_frequency(input_words_list):\n",
    "    dict_keys = list(set(input_words_list))\n",
    "    dict_values = [input_words_list.count(i) for i in dict_keys]\n",
    "\n",
    "    return dict(zip(dict_keys, dict_values))\n",
    "\n",
    "print(find_word_frequency([\"partha\", \"pratim\", \"borah\", \"partha\", \"partha\", \"borah\"]))"
   ]
  },
  {
   "cell_type": "markdown",
   "id": "cb16c041-9683-40e2-94d3-e2195e812ba3",
   "metadata": {},
   "source": [
    "32. Write a code that takes two dictionaries as input and merges them into a single dictionary. If there are\n",
    "common keys, the values should be added together."
   ]
  },
  {
   "cell_type": "code",
   "execution_count": 15,
   "id": "c2ffb51c-8ab7-41ef-b84a-b0d43be0f81e",
   "metadata": {},
   "outputs": [
    {
     "name": "stdout",
     "output_type": "stream",
     "text": [
      "{'banana': 6, 'orange': 3, 'grape': 3, 'apple': 3}\n"
     ]
    }
   ],
   "source": [
    "def merged_dictionary(d1,d2):\n",
    "    new_dict = d2.copy()\n",
    "    for key,value in d1.items():\n",
    "        if key in d2:\n",
    "            new_dict[key] = value + d2[key]\n",
    "        else:\n",
    "            new_dict[key] = value\n",
    "    return new_dict\n",
    "\n",
    "d1 = {'apple': 3, 'banana': 2, 'orange': 1}\n",
    "d2 = {'banana': 4, 'orange': 2, 'grape': 3}\n",
    "\n",
    "print(merged_dictionary(d1, d2))"
   ]
  },
  {
   "cell_type": "markdown",
   "id": "eb81ce18-4623-4bcf-a01f-6eaaa6b6f110",
   "metadata": {},
   "source": [
    "33. Write a code to access a value in a nested dictionary. The function should take the dictionary and a list of\n",
    "keys as input, and return the corresponding value. If any of the keys do not exist in the dictionary, the\n",
    "function should return None."
   ]
  },
  {
   "cell_type": "code",
   "execution_count": 16,
   "id": "75a60c7d-c45e-486e-91ca-14ddef5f6a52",
   "metadata": {},
   "outputs": [
    {
     "name": "stdout",
     "output_type": "stream",
     "text": [
      "Partha\n",
      "None\n"
     ]
    }
   ],
   "source": [
    "def access_nested_dict(d, keys):\n",
    "\n",
    "    for key in keys:\n",
    "        if isinstance(d, dict) and key in d:\n",
    "            d = d[key]  # Update d to the nested dictionary\n",
    "        else:\n",
    "            return None  # If the key is not found, return None\n",
    "    return d  # Return the final value if all keys are found\n",
    "\n",
    "students = {\n",
    "    'student1': {'name': 'Partha', 'age': 30, 'grade': 'A'},\n",
    "    'student2': {'name': 'Borah', 'age': 32, 'grade': 'B'},\n",
    "    'student3': {'name': 'Pratm', 'age': 31, 'grade': 'A'},\n",
    "}\n",
    "\n",
    "keys = ['student1', 'name']\n",
    "print(access_nested_dict(students, keys))\n",
    "\n",
    "keys_invalid = ['student2', 'contact number']\n",
    "print(access_nested_dict(students, keys_invalid))"
   ]
  },
  {
   "cell_type": "markdown",
   "id": "96985a63-c5b7-4d72-9592-48c0fe300776",
   "metadata": {},
   "source": [
    "34. Write a code that takes a dictionary as input and returns a sorted version of it based on the values. You\n",
    "can choose whether to sort in ascending or descending order."
   ]
  },
  {
   "cell_type": "code",
   "execution_count": 17,
   "id": "a78e15da-ae1e-4eb3-acec-f69c12fec3d7",
   "metadata": {},
   "outputs": [
    {
     "name": "stdout",
     "output_type": "stream",
     "text": [
      "{'banana': 1, 'orange': 2, 'apple': 3}\n"
     ]
    }
   ],
   "source": [
    "def sort_dictionary(input_dictionary):\n",
    "    value_list = sorted(list(input_dictionary.values()))\n",
    "    sorted_dict = {}\n",
    "    for i in value_list:\n",
    "        for k in input_dictionary.keys():\n",
    "            if input_dictionary[k] == i:\n",
    "                sorted_dict[k] = input_dictionary[k]\n",
    "    return sorted_dict\n",
    "\n",
    "d1 = {'apple': 3, 'banana': 1, 'orange': 2}\n",
    "print(sort_dictionary(d1))"
   ]
  },
  {
   "cell_type": "markdown",
   "id": "eef8f12b-4886-4277-bdc8-af66e67b082c",
   "metadata": {},
   "source": [
    "35. Write a code that inverts a dictionary, swapping keys and values. Ensure that the inverted dictionary\n",
    "correctly handles cases where multiple keys have the same value by storing the keys as a list in the\n",
    "inverted dictionary."
   ]
  },
  {
   "cell_type": "code",
   "execution_count": 18,
   "id": "8cb9c4a9-a1aa-407e-b379-8aad35ff8d83",
   "metadata": {},
   "outputs": [
    {
     "name": "stdout",
     "output_type": "stream",
     "text": [
      "yess\n",
      "yess\n",
      "{3: 'apple', 2: 'banana', 1: ['orange', 'grape', 'kiwi']}\n"
     ]
    }
   ],
   "source": [
    "def invert_dictionary(input_dictionary):\n",
    "    output_dict = {}\n",
    "    for key,value in input_dictionary.items():\n",
    "        if value in output_dict:\n",
    "            output_dict[value].append(key)\n",
    "            print(\"yess\")\n",
    "\n",
    "        else:\n",
    "            output_dict[value] = [key]\n",
    "\n",
    "    for key,value in output_dict.items():\n",
    "        if len(output_dict[key]) == 1:\n",
    "            output_dict[key] = output_dict[key][0]\n",
    "    \n",
    "    return output_dict\n",
    "\n",
    "d1 = {'apple': 3, 'banana': 2, 'orange': 1, \"grape\":1, \"kiwi\":1}\n",
    "print(invert_dictionary(d1))"
   ]
  },
  {
   "cell_type": "code",
   "execution_count": null,
   "id": "a35f90d3-a8c1-4ef6-9674-95c1c7f608bc",
   "metadata": {},
   "outputs": [],
   "source": []
  }
 ],
 "metadata": {
  "kernelspec": {
   "display_name": "Python 3 (ipykernel)",
   "language": "python",
   "name": "python3"
  },
  "language_info": {
   "codemirror_mode": {
    "name": "ipython",
    "version": 3
   },
   "file_extension": ".py",
   "mimetype": "text/x-python",
   "name": "python",
   "nbconvert_exporter": "python",
   "pygments_lexer": "ipython3",
   "version": "3.11.5"
  }
 },
 "nbformat": 4,
 "nbformat_minor": 5
}
